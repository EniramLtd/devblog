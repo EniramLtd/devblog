{
 "metadata": {
  "name": "",
  "signature": "sha256:34b7910a8b7bf482926e3985624f4aa82fc74f673612c50a65fb8c83f92dd482"
 },
 "nbformat": 3,
 "nbformat_minor": 0,
 "worksheets": [
  {
   "cells": [
    {
     "cell_type": "code",
     "collapsed": false,
     "input": [
      "%load_ext autoreload\n",
      "%autoreload 2\n",
      "%matplotlib"
     ],
     "language": "python",
     "metadata": {},
     "outputs": [
      {
       "output_type": "stream",
       "stream": "stdout",
       "text": [
        "Using matplotlib backend: Qt4Agg\n"
       ]
      }
     ],
     "prompt_number": 1
    },
    {
     "cell_type": "code",
     "collapsed": false,
     "input": [
      "import numpy as np\n",
      "import matplotlib.pyplot as plt\n",
      "from mpl_toolkits.basemap import Basemap, cm"
     ],
     "language": "python",
     "metadata": {},
     "outputs": [],
     "prompt_number": 2
    },
    {
     "cell_type": "code",
     "collapsed": false,
     "input": [
      "from enigeo import Route\n",
      "import enigeo.geodesy"
     ],
     "language": "python",
     "metadata": {},
     "outputs": [],
     "prompt_number": 3
    },
    {
     "cell_type": "code",
     "collapsed": false,
     "input": [
      "# South of Cornwall\n",
      "#latlon_so = (49.786613, -5.357459)\n",
      "# South of Isle of Wight\n",
      "latlon_so = (50.533645, -1.272777)\n",
      "# New York Lower Bay\n",
      "latlon_ny = (40.524273, -74.013766)"
     ],
     "language": "python",
     "metadata": {},
     "outputs": [],
     "prompt_number": 4
    },
    {
     "cell_type": "code",
     "collapsed": false,
     "input": [
      "route_gcd = Route(tuple(zip(latlon_so, latlon_ny)))\n",
      "route_rhumb = route_gcd.copy()\n",
      "route_rhumb[\"mode.rhumbline\"] = [True, False]"
     ],
     "language": "python",
     "metadata": {},
     "outputs": [],
     "prompt_number": 5
    },
    {
     "cell_type": "code",
     "collapsed": false,
     "input": [
      "rend_route_gcd = route_gcd.render(max_leg_distance=100.)\n",
      "rend_route_rhumb = route_rhumb.render(max_leg_distance=100.)"
     ],
     "language": "python",
     "metadata": {},
     "outputs": [],
     "prompt_number": 6
    },
    {
     "cell_type": "code",
     "collapsed": false,
     "input": [
      "print route_rhumb"
     ],
     "language": "python",
     "metadata": {},
     "outputs": [
      {
       "output_type": "stream",
       "stream": "stdout",
       "text": [
        "    latitude  longitude mode.rhumbline  turnRadius  distance.leg  \\\n",
        "0  50.533645  -1.272777           True           0    3106.25832   \n",
        "1  40.524273 -74.013766          False           0           NaN   \n",
        "\n",
        "   angle.azimuth  angle.azimuth.inverse  distance.fromFirstWaypoint  \n",
        "0    -101.155344                    NaN                     0.00000  \n",
        "1            NaN              78.844656                  3106.25832  \n"
       ]
      }
     ],
     "prompt_number": 7
    },
    {
     "cell_type": "code",
     "collapsed": false,
     "input": [
      "D_wgs84 = rend_route_gcd['distance.fromFirstWaypoint'].iloc[-1]\n",
      "D_rhumb = rend_route_rhumb['distance.fromFirstWaypoint'].iloc[-1]"
     ],
     "language": "python",
     "metadata": {},
     "outputs": [],
     "prompt_number": 8
    },
    {
     "cell_type": "code",
     "collapsed": false,
     "input": [
      "D_sphere = enigeo.geodesy.get_distance(latlon_so, latlon_ny, ellps='sphere')"
     ],
     "language": "python",
     "metadata": {},
     "outputs": [],
     "prompt_number": 9
    },
    {
     "cell_type": "code",
     "collapsed": false,
     "input": [
      "1 - D_sphere / D_rhumb"
     ],
     "language": "python",
     "metadata": {},
     "outputs": [
      {
       "metadata": {},
       "output_type": "pyout",
       "prompt_number": 10,
       "text": [
        "0.036716265803268922"
       ]
      }
     ],
     "prompt_number": 10
    },
    {
     "cell_type": "code",
     "collapsed": false,
     "input": [
      "def prepare_map(m):\n",
      "    m.bluemarble()\n",
      "    #m.drawparallels(np.arange(-80,81,20),labels=[1,1,0,0], color='white')\n",
      "    #m.drawmeridians(np.arange(0,360,60),labels=[0,0,0,1], color='white')\n",
      "    rend_route_gcd.plot(m, color='yellow', linewidth=2)\n",
      "    rend_route_rhumb.plot(m, color='red', linewidth=2)"
     ],
     "language": "python",
     "metadata": {},
     "outputs": [],
     "prompt_number": 11
    },
    {
     "cell_type": "code",
     "collapsed": false,
     "input": [
      "ax1 = plt.figure().add_subplot(1, 1, 1)\n",
      "m1 = Basemap(ax=ax1,\n",
      "             llcrnrlon=-90, llcrnrlat=0, urcrnrlon=20, urcrnrlat=75)#, projection='mill')\n",
      "#m = Basemap(width=12000000,height=9000000,projection='lcc',\n",
      "#            resolution=None,lat_1=45.,lat_2=55,lat_0=50,lon_0=-107.)\n",
      "prepare_map(m1)\n",
      "plt.show()"
     ],
     "language": "python",
     "metadata": {},
     "outputs": [],
     "prompt_number": 12
    },
    {
     "cell_type": "code",
     "collapsed": false,
     "input": [
      "ax2 = plt.figure().add_subplot(1, 1, 1)\n",
      "m2 = Basemap(ax=ax2,\n",
      "             projection='ortho',\n",
      "             resolution=None,lat_0=40, lon_0=-30.,  lat_1=0., lat_2=80.,\n",
      "             #llcrnrlon=-90, llcrnrlat=0, urcrnrlon=20, urcrnrlat=75\n",
      "             )\n",
      "prepare_map(m2)\n",
      "plt.show()"
     ],
     "language": "python",
     "metadata": {},
     "outputs": [],
     "prompt_number": 13
    },
    {
     "cell_type": "heading",
     "level": 2,
     "metadata": {},
     "source": [
      "Speed comparison"
     ]
    },
    {
     "cell_type": "code",
     "collapsed": false,
     "input": [
      "pts_lat_min = 10.\n",
      "pts_lat_max = 50.\n",
      "pts_lon_min = -50.\n",
      "pts_lon_max = -20.\n",
      "N = 1000\n",
      "pts_lats = (pts_lat_max - pts_lat_min) * np.random.random(size=N) + pts_lat_min\n",
      "pts_lons = (pts_lon_max - pts_lon_min) * np.random.random(size=N) + pts_lon_min"
     ],
     "language": "python",
     "metadata": {},
     "outputs": [],
     "prompt_number": 25
    },
    {
     "cell_type": "raw",
     "metadata": {},
     "source": [
      "m2.plot(pts_lons, pts_lats, '.', latlon=True)"
     ]
    },
    {
     "cell_type": "code",
     "collapsed": false,
     "input": [
      "%%timeit\n",
      "# analytic\n",
      "# use branch pre-cython \n",
      "for n in xrange(N):\n",
      "    pts_proj_analytic = enigeo.geodesy.get_projected_point(\n",
      "        latlon_so, latlon_ny, (pts_lats[n], pts_lons[n]), \n",
      "        ellps='sphere', ellps2='sphere')"
     ],
     "language": "python",
     "metadata": {},
     "outputs": [
      {
       "output_type": "stream",
       "stream": "stdout",
       "text": [
        "1 loops, best of 3: 879 ms per loop\n"
       ]
      }
     ],
     "prompt_number": 29
    },
    {
     "cell_type": "raw",
     "metadata": {},
     "source": [
      "m2.plot(pts_proj_analytic[1], pts_proj_analytic[0], '.', latlon=True)"
     ]
    },
    {
     "cell_type": "code",
     "collapsed": false,
     "input": [
      "%%timeit\n",
      "# numeric, wgs84\n",
      "# use branch pre-cython \n",
      "for n in xrange(N):\n",
      "    pts_proj_numeric = enigeo.geodesy.get_projected_point(\n",
      "        latlon_so, latlon_ny, (pts_lats[n], pts_lons[n]),\n",
      "        ellps='WGS84', ellps2='WGS84')"
     ],
     "language": "python",
     "metadata": {},
     "outputs": [
      {
       "output_type": "stream",
       "stream": "stdout",
       "text": [
        "1 loops, best of 3: 5.95 s per loop\n"
       ]
      }
     ],
     "prompt_number": 30
    },
    {
     "cell_type": "code",
     "collapsed": false,
     "input": [
      "%%time\n",
      "# hybrid, wgs84\n",
      "# use branch pre-cython \n",
      "for n in xrange(N):\n",
      "    pts_proj_hybrid = enigeo.geodesy.get_projected_point(\n",
      "        latlon_so, latlon_ny, (pts_lats[n], pts_lons[n]),\n",
      "        ellps='WGS84', ellps2='sphere')"
     ],
     "language": "python",
     "metadata": {},
     "outputs": [
      {
       "output_type": "stream",
       "stream": "stdout",
       "text": [
        "CPU times: user 5.59 s, sys: 0 ns, total: 5.59 s\n",
        "Wall time: 5.6 s\n"
       ]
      }
     ],
     "prompt_number": 31
    },
    {
     "cell_type": "code",
     "collapsed": false,
     "input": [],
     "language": "python",
     "metadata": {},
     "outputs": []
    }
   ],
   "metadata": {}
  }
 ]
}